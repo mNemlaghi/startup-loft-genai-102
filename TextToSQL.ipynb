{
 "cells": [
  {
   "cell_type": "markdown",
   "id": "f258757b-331d-4905-8c86-ad1b3d7a02a8",
   "metadata": {
    "tags": []
   },
   "source": [
    "# Leveraging Text2SQL use-cases with SQL Agents"
   ]
  },
  {
   "cell_type": "markdown",
   "id": "2ff47656-224d-4100-8df8-1326e7cec100",
   "metadata": {
    "tags": []
   },
   "source": [
    "## Objective: Zero shot ReACt + SQL"
   ]
  },
  {
   "cell_type": "markdown",
   "id": "84214279-65b7-48f7-a5b6-e41a352d141f",
   "metadata": {},
   "source": [
    "React means [_REasoning_ and _ACTing_](https://arxiv.org/abs/2210.03629) This framework allows LLM to act on the following: tryptic:\n",
    "* thought\n",
    "* observation\n",
    "* action\n"
   ]
  },
  {
   "cell_type": "markdown",
   "id": "cc2b8069-265a-4c97-bfe1-87b2b206f2a0",
   "metadata": {},
   "source": [
    "![ReAct Framework](https://react-lm.github.io/files/diagram.png)"
   ]
  },
  {
   "cell_type": "markdown",
   "id": "32df4d72-cc0b-4d26-9b29-36e08fc99038",
   "metadata": {},
   "source": [
    "Zero-shot means that no previous examples were fed by the LLM. In our specific case, the environment is an SQL database, more specifically SQLIte databases."
   ]
  },
  {
   "cell_type": "markdown",
   "id": "4066184c-5a74-447a-b6ea-f5552da7eec1",
   "metadata": {},
   "source": [
    "In this notebook, we are going to first use a simple agentic framework connecting as a driver for a SQL engine. Then, we're going to leverage this framework in order to apply a whole chain including Text to SQL."
   ]
  },
  {
   "cell_type": "code",
   "execution_count": 1,
   "id": "77e747b5-fb01-4760-b957-36023330d292",
   "metadata": {
    "tags": []
   },
   "outputs": [],
   "source": [
    "from langchain import  SQLDatabase #, SQLDatabaseChain\n",
    "from langchain.llms.bedrock import Bedrock\n",
    "import boto3\n",
    "\n",
    "bedrockruntime = boto3.client('bedrock-runtime')\n"
   ]
  },
  {
   "cell_type": "markdown",
   "id": "e796beb7-a959-41b1-9769-0e604bfb9e1c",
   "metadata": {},
   "source": [
    "## Titanic Open Table in _sqlite_"
   ]
  },
  {
   "cell_type": "markdown",
   "id": "1d14e63b-9e28-402f-8ad8-ada836e09158",
   "metadata": {},
   "source": [
    "First we want to know if our SQL companion is able to perform single table queries. Let's explore a sample _titanic_ table from SQLite database. Link is "
   ]
  },
  {
   "cell_type": "code",
   "execution_count": 3,
   "id": "f30a2973-f6e6-4fab-b2fe-38eed9f40ce0",
   "metadata": {
    "tags": []
   },
   "outputs": [],
   "source": [
    "!cd data"
   ]
  },
  {
   "cell_type": "code",
   "execution_count": 9,
   "id": "7a2f7215-d52b-4a63-937d-38106229eaf9",
   "metadata": {
    "tags": []
   },
   "outputs": [
    {
     "name": "stdout",
     "output_type": "stream",
     "text": [
      "/root/startup-loft-genai-102\n"
     ]
    }
   ],
   "source": [
    "!pwd"
   ]
  },
  {
   "cell_type": "code",
   "execution_count": 15,
   "id": "6afeb466-aeb5-4972-ad34-bb60d8c4c936",
   "metadata": {
    "tags": []
   },
   "outputs": [],
   "source": [
    "titanicdb = SQLDatabase.from_uri(\"sqlite:///titanic.db\")\n"
   ]
  },
  {
   "cell_type": "code",
   "execution_count": 16,
   "id": "f8a5125b-51cf-465a-8348-e2edb89fcfdd",
   "metadata": {
    "tags": []
   },
   "outputs": [
    {
     "data": {
      "text/markdown": [
       "````{sql}\n",
       "\n",
       "CREATE TABLE titanic (\n",
       "\t\"PassengerId\" TEXT, \n",
       "\t\"Survived\" TEXT, \n",
       "\t\"Pclass\" TEXT, \n",
       "\t\"Name\" TEXT, \n",
       "\t\"Sex\" TEXT, \n",
       "\t\"Age\" TEXT, \n",
       "\t\"SibSp\" TEXT, \n",
       "\t\"Parch\" TEXT, \n",
       "\t\"Ticket\" TEXT, \n",
       "\t\"Fare\" TEXT, \n",
       "\t\"Cabin\" TEXT, \n",
       "\t\"Embarked\" TEXT\n",
       ")\n",
       "\n",
       "/*\n",
       "3 rows from titanic table:\n",
       "PassengerId\tSurvived\tPclass\tName\tSex\tAge\tSibSp\tParch\tTicket\tFare\tCabin\tEmbarked\n",
       "1\t0\t3\tBraund, Mr. Owen Harris\tmale\t22\t1\t0\tA/5 21171\t7.25\tNone\tS\n",
       "2\t1\t1\tCumings, Mrs. John Bradley (Florence Briggs Thayer)\tfemale\t38\t1\t0\tPC 17599\t71.2833\tC85\tC\n",
       "3\t1\t3\tHeikkinen, Miss. Laina\tfemale\t26\t0\t0\tSTON/O2. 3101282\t7.925\tNone\tS\n",
       "*/\n",
       "````"
      ],
      "text/plain": [
       "<IPython.core.display.Markdown object>"
      ]
     },
     "metadata": {},
     "output_type": "display_data"
    }
   ],
   "source": [
    "from IPython.display import Markdown, display\n",
    "\n",
    "display(Markdown(\"````{sql}\\n\"+titanicdb.get_table_info(['titanic']) + \"\\n````\"))"
   ]
  },
  {
   "cell_type": "markdown",
   "id": "1039f612-eda5-47d4-ab0d-25b3f0ce7515",
   "metadata": {},
   "source": [
    "We can use the _titanicdb_ object as an execution driver for our SQLIte DB"
   ]
  },
  {
   "cell_type": "code",
   "execution_count": 17,
   "id": "75775616-5e4c-4666-b51e-958693d88ccd",
   "metadata": {
    "tags": []
   },
   "outputs": [
    {
     "data": {
      "text/plain": [
       "'[(342,)]'"
      ]
     },
     "execution_count": 17,
     "metadata": {},
     "output_type": "execute_result"
    }
   ],
   "source": [
    "titanicdb.run('SELECT SUM(Survived) FROM titanic')"
   ]
  },
  {
   "cell_type": "markdown",
   "id": "a1766196-5fce-48c6-8513-b8ed34399fad",
   "metadata": {},
   "source": [
    "Let's use Cohere Command LLM with Bedrock natively integrated within Langchain."
   ]
  },
  {
   "cell_type": "code",
   "execution_count": 18,
   "id": "888b9fbe-9b74-4cf9-9e1d-742077f1e1a6",
   "metadata": {
    "tags": []
   },
   "outputs": [],
   "source": [
    "\n",
    "modelId = 'cohere.command-text-v14' #\n",
    "llm = Bedrock(\n",
    "    model_id=modelId,\n",
    "    model_kwargs={\n",
    "        \"p\": 1,\n",
    "        \"temperature\":0.0,\n",
    "           \"max_tokens\":4000\n",
    "    },\n",
    "    client=bedrockruntime,\n",
    ")\n",
    "\n",
    "\n",
    "from langchain.chains import create_sql_query_chain\n"
   ]
  },
  {
   "cell_type": "code",
   "execution_count": 19,
   "id": "2ad16241-f913-4aa0-acfa-fbbcb4c42f1b",
   "metadata": {
    "tags": []
   },
   "outputs": [],
   "source": [
    "titanic_chain = create_sql_query_chain(llm, titanicdb)"
   ]
  },
  {
   "cell_type": "markdown",
   "id": "7063b769-5d52-4028-b522-2fe9b307c00b",
   "metadata": {
    "tags": []
   },
   "source": [
    "Using Cohere command with Bedrock SDK, we can try to outline a SQL query."
   ]
  },
  {
   "cell_type": "code",
   "execution_count": 20,
   "id": "4e4f15ad-6f18-4750-8509-f452c1f92bf8",
   "metadata": {
    "tags": []
   },
   "outputs": [],
   "source": [
    "import json\n",
    "\n",
    "prompt = '''\n",
    "You have below the titanic table description, alongside with 3 displayed rows. Outline a SQL queries to answer the following question: how many passengers survived?\n",
    "\n",
    "\n",
    "CREATE TABLE titanic (\n",
    "    \"PassengerId\" TEXT, \n",
    "    \"Survived\" TEXT, \n",
    "    \"Pclass\" TEXT, \n",
    "    \"Name\" TEXT, \n",
    "    \"Sex\" TEXT, \n",
    "    \"Age\" TEXT, \n",
    "    \"SibSp\" TEXT, \n",
    "    \"Parch\" TEXT, \n",
    "    \"Ticket\" TEXT, \n",
    "    \"Fare\" TEXT, \n",
    "    \"Cabin\" TEXT, \n",
    "    \"Embarked\" TEXT\n",
    ")\n",
    "\n",
    "/*\n",
    "3 rows from titanic table:\n",
    "PassengerId Survived    Pclass  Name    Sex Age SibSp   Parch   Ticket  Fare    Cabin   Embarked\n",
    "1   0   3   Braund, Mr. Owen Harris male    22  1   0   A/5 21171   7.25    None    S\n",
    "2   1   1   Cumings, Mrs. John Bradley (Florence Briggs Thayer) female  38  1   0   PC 17599    71.2833 C85 C\n",
    "3   1   3   Heikkinen, Miss. Laina  female  26  0   0   STON/O2. 3101282    7.925   None    S\n",
    "*/'''\n",
    "\n",
    "\n",
    "body = json.dumps({\"prompt\":prompt, \"temperature\":0.0})"
   ]
  },
  {
   "cell_type": "code",
   "execution_count": 26,
   "id": "0dbc890e-1646-48fd-a9aa-3a6fb3ddd412",
   "metadata": {
    "tags": []
   },
   "outputs": [],
   "source": [
    "from IPython.display import display, Markdown\n",
    "\n",
    "res = bedrockruntime.invoke_model(body=body, modelId=modelId)\n"
   ]
  },
  {
   "cell_type": "code",
   "execution_count": 27,
   "id": "3053b89b-1bab-48f2-af28-f463ec2c59ad",
   "metadata": {
    "tags": []
   },
   "outputs": [
    {
     "data": {
      "text/markdown": [
       " To answer how many passengers survived, you can use the following SQL query:\n",
       "```sql\n",
       "SELECT COUNT(PassengerId) as SurvivedCount\n",
       "FROM titanic\n",
       "WHERE Survived = '1';\n",
       "```\n",
       "\n",
       "This query counts the number of passengers where the `Survived` column has a value of `1`, indicating that the passenger survived the Titanic shipwreck. \n",
       "\n",
       "The SQL query above counts the number of passengers based on the `Survived` column directly. It's important to note that the query returns the total number of passengers who survived the Titanic shipwreck. If you want to get the number of passengers who survived divided by the total number of passengers, you would need to do a division of the total number of passengers by the `SurvivedCount` in your application code. \n",
       "\n",
       "Please note that the table `titanic` has other columns such as `Pclass`, `Name`, `Sex`, `Age`, `SibSp`, `Parch`, `Ticket`, `Fare`, `Cabin`, and `Embarked`, but we are only interested in the count of passengers who survived, making the query as concise as possible. \n",
       "\n",
       "This query should be run in any SQL-compatible database system, such as PostgreSQL, MySQL, or SQLite, to retrieve the result. \n",
       "\n",
       "Here’s a sample output:\n",
       "```\n",
       "SurvivedCount\n",
       "3\n",
       "```"
      ],
      "text/plain": [
       "<IPython.core.display.Markdown object>"
      ]
     },
     "metadata": {},
     "output_type": "display_data"
    }
   ],
   "source": [
    "#display(Markdown(res['body'].read().decode('utf8')['text']))\n",
    "\n",
    "out = res['body'].read().decode('utf8')\n",
    "display(Markdown(json.loads(out)['generations'][0]['text']))"
   ]
  },
  {
   "cell_type": "markdown",
   "id": "e0860386-9641-4299-a257-c6f857b082dd",
   "metadata": {},
   "source": [
    "Now we have a SQL query that we can execute."
   ]
  },
  {
   "cell_type": "code",
   "execution_count": 28,
   "id": "632a415d-c0ae-497d-bd29-074f2b4493e8",
   "metadata": {
    "tags": []
   },
   "outputs": [
    {
     "data": {
      "text/plain": [
       "'[(342,)]'"
      ]
     },
     "execution_count": 28,
     "metadata": {},
     "output_type": "execute_result"
    }
   ],
   "source": [
    "titanicdb.run('''SELECT COUNT(PassengerId) as SurvivedCount\n",
    "FROM titanic\n",
    "WHERE Survived = '1';''')"
   ]
  },
  {
   "cell_type": "markdown",
   "id": "06dd863a-351b-413c-9738-a4af90e3e99f",
   "metadata": {},
   "source": [
    "### Using SQL Agent in Langchain"
   ]
  },
  {
   "cell_type": "markdown",
   "id": "d62329a7-b8ac-449e-b529-293efa2f3f90",
   "metadata": {},
   "source": [
    "Going a step further,we are going to leverage the REACT framework to incorporate Text to SQL into an LLM so that it will, repeatedly:\n",
    "\n",
    "|Step|SQL Agent meaning|\n",
    "|---|---|\n",
    "|Observation | SQL schema and table descriptions / Observing SQL result |\n",
    "|Thought | explaining the thought process to link observation with action\n",
    "| Action| Querying the DB/ The Medatadata |\n",
    "\n"
   ]
  },
  {
   "cell_type": "code",
   "execution_count": 30,
   "id": "d2f9fdf5-ca46-4a68-ae63-c0533f413049",
   "metadata": {
    "tags": []
   },
   "outputs": [],
   "source": [
    "from langchain.agents import create_sql_agent\n",
    "from langchain.agents.agent_toolkits import SQLDatabaseToolkit\n",
    "from langchain.agents.agent_types import AgentType\n",
    "\n"
   ]
  },
  {
   "cell_type": "code",
   "execution_count": 11,
   "id": "3c388d93-9148-41f2-b988-aa3550c2fbab",
   "metadata": {
    "tags": []
   },
   "outputs": [],
   "source": [
    "agent_executor = create_sql_agent(\n",
    "    llm=llm,\n",
    "    toolkit=SQLDatabaseToolkit(db=titanicdb, llm=llm),\n",
    "    verbose=True,\n",
    "    agent_type=AgentType.ZERO_SHOT_REACT_DESCRIPTION,\n",
    ")"
   ]
  },
  {
   "cell_type": "code",
   "execution_count": 60,
   "id": "22594495-62f1-4c00-943a-475e8a71feaf",
   "metadata": {
    "tags": []
   },
   "outputs": [
    {
     "name": "stdout",
     "output_type": "stream",
     "text": [
      "\n",
      "\n",
      "\u001b[1m> Entering new AgentExecutor chain...\u001b[0m\n",
      "\u001b[32;1m\u001b[1;3m Action: sql_db_list_tables\n",
      "\n",
      "Action Input: \n",
      "\n",
      "\n",
      "\u001b[0m\n",
      "Observation: \u001b[38;5;200m\u001b[1;3mtitanic\u001b[0m\n",
      "Thought:\u001b[32;1m\u001b[1;3m Action: sql_db_schema\n",
      "Action Input: titanic\u001b[0m\n",
      "Observation: \u001b[33;1m\u001b[1;3m\n",
      "CREATE TABLE titanic (\n",
      "\t\"PassengerId\" TEXT, \n",
      "\t\"Survived\" TEXT, \n",
      "\t\"Pclass\" TEXT, \n",
      "\t\"Name\" TEXT, \n",
      "\t\"Sex\" TEXT, \n",
      "\t\"Age\" TEXT, \n",
      "\t\"SibSp\" TEXT, \n",
      "\t\"Parch\" TEXT, \n",
      "\t\"Ticket\" TEXT, \n",
      "\t\"Fare\" TEXT, \n",
      "\t\"Cabin\" TEXT, \n",
      "\t\"Embarked\" TEXT\n",
      ")\n",
      "\n",
      "/*\n",
      "3 rows from titanic table:\n",
      "PassengerId\tSurvived\tPclass\tName\tSex\tAge\tSibSp\tParch\tTicket\tFare\tCabin\tEmbarked\n",
      "1\t0\t3\tBraund, Mr. Owen Harris\tmale\t22\t1\t0\tA/5 21171\t7.25\tNone\tS\n",
      "2\t1\t1\tCumings, Mrs. John Bradley (Florence Briggs Thayer)\tfemale\t38\t1\t0\tPC 17599\t71.2833\tC85\tC\n",
      "3\t1\t3\tHeikkinen, Miss. Laina\tfemale\t26\t0\t0\tSTON/O2. 3101282\t7.925\tNone\tS\n",
      "*/\u001b[0m\n",
      "Thought:\u001b[32;1m\u001b[1;3m Action: sql_db_query_checker\n",
      "Action Input: SELECT AVG(Age) FROM titanic WHERE Survived = 1\u001b[0m\n",
      "Observation: \u001b[36;1m\u001b[1;3mHere is the rewritten query:\n",
      "```sql\n",
      "SELECT AVG(Age) FROM Titanic AS t WHERE t.Survived = 1\n",
      "```\n",
      "\n",
      "The query was reproduced as no errors were found. \n",
      "Let me know if I can assist you with anything else! \u001b[0m\n",
      "Thought:\u001b[32;1m\u001b[1;3m Final Answer: The average age of the surviving passengers was approximately 26 years old. \u001b[0m\n",
      "\n",
      "\u001b[1m> Finished chain.\u001b[0m\n"
     ]
    },
    {
     "data": {
      "text/plain": [
       "'The average age of the surviving passengers was approximately 26 years old.'"
      ]
     },
     "execution_count": 60,
     "metadata": {},
     "output_type": "execute_result"
    }
   ],
   "source": [
    "agent_executor.run(\"What was the average age of surviving passengers?\")"
   ]
  },
  {
   "cell_type": "markdown",
   "id": "921a7bca-1e5d-4e28-a9fd-0a4028000d66",
   "metadata": {},
   "source": [
    "Thought process feels convoluted (maybe an overthinker), but it did the job anyway."
   ]
  },
  {
   "cell_type": "markdown",
   "id": "10af3bbd-1701-422a-a7bf-397745503ee6",
   "metadata": {},
   "source": [
    "## Chinook: answering multi table DBs"
   ]
  },
  {
   "cell_type": "markdown",
   "id": "941ff1ff-8102-4976-b8b8-4a73f407c0c2",
   "metadata": {},
   "source": [
    " Question: is the ReaCt agent capable of handling more complex data questions, namely _answering from multi table DB_ ? Let's answer this with a slightly more complex DB. [Chinook](https://github.com/lerocha/chinook-database) is a sample DB for multiple SQL engines, including SQLite. It can mimick multiple realistic businesses RBDMS."
   ]
  },
  {
   "cell_type": "markdown",
   "id": "5c059ab0-4773-483f-93c0-2dcb331ee529",
   "metadata": {},
   "source": [
    "![test](imgs/chinookmodel.png)"
   ]
  },
  {
   "cell_type": "code",
   "execution_count": 13,
   "id": "2a06a041-a8db-4cdc-bbcd-f4da1d1ad1d0",
   "metadata": {
    "tags": []
   },
   "outputs": [],
   "source": [
    "!cd data"
   ]
  },
  {
   "cell_type": "code",
   "execution_count": 14,
   "id": "547a4287-082c-49c8-a0d0-63ad0aae8d51",
   "metadata": {
    "tags": []
   },
   "outputs": [
    {
     "name": "stdout",
     "output_type": "stream",
     "text": [
      "/root/startup-loft-genai-102\n"
     ]
    }
   ],
   "source": [
    "!pwd"
   ]
  },
  {
   "cell_type": "code",
   "execution_count": 22,
   "id": "9109227e-75ea-4ad7-9ef6-1160cab4e18f",
   "metadata": {
    "tags": []
   },
   "outputs": [],
   "source": [
    "\n",
    "modelId = 'anthropic.claude-v2' #\n",
    "llm = Bedrock(\n",
    "    model_id=modelId,\n",
    "    model_kwargs={\n",
    "        \"top_p\": 1,\n",
    "        \"temperature\":0.0,\n",
    "        \"stop_sequences\": [\"\\n\\nHuman:\"],\n",
    "           \"max_tokens_to_sample\":10000\n",
    "    },\n",
    "    client=bedrockruntime,\n",
    ")\n",
    "\n",
    "\n",
    "from langchain.chains import create_sql_query_chain\n"
   ]
  },
  {
   "cell_type": "code",
   "execution_count": 23,
   "id": "e6cab6fa-43d2-42d3-8a5b-d0e8812d605b",
   "metadata": {
    "tags": []
   },
   "outputs": [],
   "source": [
    "db = SQLDatabase.from_uri(\"sqlite:///data/Chinook.db\", view_support=False)\n"
   ]
  },
  {
   "cell_type": "code",
   "execution_count": 24,
   "id": "1c4a7bf6-4d84-4542-acc7-d41af46df463",
   "metadata": {
    "tags": []
   },
   "outputs": [
    {
     "data": {
      "text/plain": [
       "['Album',\n",
       " 'Artist',\n",
       " 'Customer',\n",
       " 'Employee',\n",
       " 'Genre',\n",
       " 'Invoice',\n",
       " 'InvoiceLine',\n",
       " 'MediaType',\n",
       " 'Playlist',\n",
       " 'PlaylistTrack',\n",
       " 'Track']"
      ]
     },
     "execution_count": 24,
     "metadata": {},
     "output_type": "execute_result"
    }
   ],
   "source": [
    "db.get_usable_table_names()\n"
   ]
  },
  {
   "cell_type": "code",
   "execution_count": 25,
   "id": "b291e251-e4b9-4ebf-9524-51747b27694e",
   "metadata": {
    "tags": []
   },
   "outputs": [],
   "source": [
    "chinook_agent_executor = create_sql_agent(llm=llm,toolkit=SQLDatabaseToolkit(db=db, llm=llm),\n",
    "                                  agent_type=AgentType.ZERO_SHOT_REACT_DESCRIPTION, verbose=True, handle_parsing_errors=True)"
   ]
  },
  {
   "cell_type": "code",
   "execution_count": 26,
   "id": "fa5f85b4-b2d7-4f77-929b-fe9a33c61217",
   "metadata": {
    "tags": []
   },
   "outputs": [
    {
     "name": "stdout",
     "output_type": "stream",
     "text": [
      "\n",
      "\n",
      "\u001b[1m> Entering new AgentExecutor chain...\u001b[0m\n",
      "\u001b[32;1m\u001b[1;3m Here is one way to approach this:\n",
      "\n",
      "Thought: I need to first check what tables are available in the database.\n",
      "Action: sql_db_list_tables\n",
      "Action Input: \u001b[0m\n",
      "Observation: \u001b[38;5;200m\u001b[1;3mAlbum, Artist, Customer, Employee, Genre, Invoice, InvoiceLine, MediaType, Playlist, PlaylistTrack, Track\u001b[0m\n",
      "Thought:\u001b[32;1m\u001b[1;3m Here is one way to approach answering the question \"Which Genre has the highest number of tracks?\":\n",
      "\n",
      "Thought: I need to first check the schema of the Genre and Track tables to see how they are related and what columns they contain.\n",
      "Action: sql_db_schema  \n",
      "Action Input: Genre, Track\u001b[0m\n",
      "Observation: \u001b[33;1m\u001b[1;3m\n",
      "CREATE TABLE \"Genre\" (\n",
      "\t\"GenreId\" INTEGER NOT NULL, \n",
      "\t\"Name\" NVARCHAR(120), \n",
      "\tPRIMARY KEY (\"GenreId\")\n",
      ")\n",
      "\n",
      "/*\n",
      "3 rows from Genre table:\n",
      "GenreId\tName\n",
      "1\tRock\n",
      "2\tJazz\n",
      "3\tMetal\n",
      "*/\n",
      "\n",
      "\n",
      "CREATE TABLE \"Track\" (\n",
      "\t\"TrackId\" INTEGER NOT NULL, \n",
      "\t\"Name\" NVARCHAR(200) NOT NULL, \n",
      "\t\"AlbumId\" INTEGER, \n",
      "\t\"MediaTypeId\" INTEGER NOT NULL, \n",
      "\t\"GenreId\" INTEGER, \n",
      "\t\"Composer\" NVARCHAR(220), \n",
      "\t\"Milliseconds\" INTEGER NOT NULL, \n",
      "\t\"Bytes\" INTEGER, \n",
      "\t\"UnitPrice\" NUMERIC(10, 2) NOT NULL, \n",
      "\tPRIMARY KEY (\"TrackId\"), \n",
      "\tFOREIGN KEY(\"MediaTypeId\") REFERENCES \"MediaType\" (\"MediaTypeId\"), \n",
      "\tFOREIGN KEY(\"GenreId\") REFERENCES \"Genre\" (\"GenreId\"), \n",
      "\tFOREIGN KEY(\"AlbumId\") REFERENCES \"Album\" (\"AlbumId\")\n",
      ")\n",
      "\n",
      "/*\n",
      "3 rows from Track table:\n",
      "TrackId\tName\tAlbumId\tMediaTypeId\tGenreId\tComposer\tMilliseconds\tBytes\tUnitPrice\n",
      "1\tFor Those About To Rock (We Salute You)\t1\t1\t1\tAngus Young, Malcolm Young, Brian Johnson\t343719\t11170334\t0.99\n",
      "2\tBalls to the Wall\t2\t2\t1\tU. Dirkschneider, W. Hoffmann, H. Frank, P. Baltes, S. Kaufmann, G. Hoffmann\t342562\t5510424\t0.99\n",
      "3\tFast As a Shark\t3\t2\t1\tF. Baltes, S. Kaufman, U. Dirkscneider & W. Hoffman\t230619\t3990994\t0.99\n",
      "*/\u001b[0m\n",
      "Thought:\u001b[32;1m\u001b[1;3m Here is one way to approach answering the question \"Which Genre has the highest number of tracks?\":\n",
      "\n",
      "Thought: I need to query the Track table and count the number of tracks for each genre. I can do this by joining the Track table with the Genre table on GenreId and grouping by Genre.Name and counting the number of tracks.\n",
      "\n",
      "Action: sql_db_query_checker\n",
      "Action Input: SELECT g.Name, COUNT(*) AS NumTracks FROM Track t JOIN Genre g ON t.GenreId = g.GenreId GROUP BY g.Name ORDER BY NumTracks DESC LIMIT 10;\u001b[0m\n",
      "Observation: \u001b[36;1m\u001b[1;3m SELECT g.Name, COUNT(*) AS NumTracks \n",
      "FROM Track t \n",
      "JOIN Genre g ON t.GenreId = g.GenreId \n",
      "GROUP BY g.Name \n",
      "ORDER BY NumTracks DESC \n",
      "LIMIT 10;\u001b[0m\n",
      "Thought:\u001b[32;1m\u001b[1;3m The query checker indicates the query is valid.\n",
      "\n",
      "Action: sql_db_query\n",
      "Action Input: SELECT g.Name, COUNT(*) AS NumTracks FROM Track t JOIN Genre g ON t.GenreId = g.GenreId GROUP BY g.Name ORDER BY NumTracks DESC LIMIT 10;\u001b[0m\n",
      "Observation: \u001b[36;1m\u001b[1;3m[('Rock', 1297), ('Latin', 579), ('Metal', 374), ('Alternative & Punk', 332), ('Jazz', 130), ('TV Shows', 93), ('Blues', 81), ('Classical', 74), ('Drama', 64), ('R&B/Soul', 61)]\u001b[0m\n",
      "Thought:\u001b[32;1m\u001b[1;3m Rock has the highest number of tracks based on the query results.\n",
      "\n",
      "Final Answer: Rock\u001b[0m\n",
      "\n",
      "\u001b[1m> Finished chain.\u001b[0m\n"
     ]
    },
    {
     "data": {
      "text/plain": [
       "{'input': 'Which Genre has the highest number of tracks?', 'output': 'Rock'}"
      ]
     },
     "execution_count": 26,
     "metadata": {},
     "output_type": "execute_result"
    }
   ],
   "source": [
    "chinook_agent_executor.invoke(\"Which Genre has the highest number of tracks?\")"
   ]
  },
  {
   "cell_type": "markdown",
   "id": "fa2ddc73-4a4c-46ef-9cee-91d023752e90",
   "metadata": {},
   "source": [
    "## State of the Art in Text to SQL: code representation prompt"
   ]
  },
  {
   "cell_type": "markdown",
   "id": "f3b4b719-b05c-4fe3-94f9-08e0ec02f8f6",
   "metadata": {},
   "source": [
    "* [Spider](https://huggingface.co/datasets/spider) is a standard dataset for developing an interface with RDBMS. Numerous [models](https://huggingface.co/models?dataset=dataset:spider) were trained with this dataset\n",
    "\n",
    "*  Text to SQL is not a nascent challenge: dating back to 2017, Seq2Seq models for SQL generation were originally developed using [LSTM](https://arxiv.org/pdf/1709.00103.pdf)\n",
    "\n",
    "*  State of the Art on Spider is currently achieved by [Graphix-T5](https://arxiv.org/pdf/2301.07507v1.pdf) , which adds text-to-SQL components above T5 \n",
    "\n",
    "* LLM exhibit solid results with Spider, and are becoming a new paradigm in text to SQL, therefore challenging State of the Art, as demonstrated [here](https://arxiv.org/pdf/2308.15363.pdf)\n",
    "\n",
    "* Moreover, adding few-shot gives more strength to the use-case."
   ]
  },
  {
   "attachments": {
    "6aeb43f4-babc-4ac3-8be6-8dfa354c3cad.png": {
     "image/png": "[encoded data removed]"
    }
   },
   "cell_type": "markdown",
   "id": "6b672754-46ee-4e06-b024-215a953c22d6",
   "metadata": {},
   "source": [
    "![image.png](attachment:6aeb43f4-babc-4ac3-8be6-8dfa354c3cad.png)\n",
    "[Source here](https://arxiv.org/pdf/2308.15363.pdf)"
   ]
  }
 ],
 "metadata": {
  "availableInstances": [
   {
    "_defaultOrder": 0,
    "_isFastLaunch": true,
    "category": "General purpose",
    "gpuNum": 0,
    "hideHardwareSpecs": false,
    "memoryGiB": 4,
    "name": "ml.t3.medium",
    "vcpuNum": 2
   },
   {
    "_defaultOrder": 1,
    "_isFastLaunch": false,
    "category": "General purpose",
    "gpuNum": 0,
    "hideHardwareSpecs": false,
    "memoryGiB": 8,
    "name": "ml.t3.large",
    "vcpuNum": 2
   },
   {
    "_defaultOrder": 2,
    "_isFastLaunch": false,
    "category": "General purpose",
    "gpuNum": 0,
    "hideHardwareSpecs": false,
    "memoryGiB": 16,
    "name": "ml.t3.xlarge",
    "vcpuNum": 4
   },
   {
    "_defaultOrder": 3,
    "_isFastLaunch": false,
    "category": "General purpose",
    "gpuNum": 0,
    "hideHardwareSpecs": false,
    "memoryGiB": 32,
    "name": "ml.t3.2xlarge",
    "vcpuNum": 8
   },
   {
    "_defaultOrder": 4,
    "_isFastLaunch": true,
    "category": "General purpose",
    "gpuNum": 0,
    "hideHardwareSpecs": false,
    "memoryGiB": 8,
    "name": "ml.m5.large",
    "vcpuNum": 2
   },
   {
    "_defaultOrder": 5,
    "_isFastLaunch": false,
    "category": "General purpose",
    "gpuNum": 0,
    "hideHardwareSpecs": false,
    "memoryGiB": 16,
    "name": "ml.m5.xlarge",
    "vcpuNum": 4
   },
   {
    "_defaultOrder": 6,
    "_isFastLaunch": false,
    "category": "General purpose",
    "gpuNum": 0,
    "hideHardwareSpecs": false,
    "memoryGiB": 32,
    "name": "ml.m5.2xlarge",
    "vcpuNum": 8
   },
   {
    "_defaultOrder": 7,
    "_isFastLaunch": false,
    "category": "General purpose",
    "gpuNum": 0,
    "hideHardwareSpecs": false,
    "memoryGiB": 64,
    "name": "ml.m5.4xlarge",
    "vcpuNum": 16
   },
   {
    "_defaultOrder": 8,
    "_isFastLaunch": false,
    "category": "General purpose",
    "gpuNum": 0,
    "hideHardwareSpecs": false,
    "memoryGiB": 128,
    "name": "ml.m5.8xlarge",
    "vcpuNum": 32
   },
   {
    "_defaultOrder": 9,
    "_isFastLaunch": false,
    "category": "General purpose",
    "gpuNum": 0,
    "hideHardwareSpecs": false,
    "memoryGiB": 192,
    "name": "ml.m5.12xlarge",
    "vcpuNum": 48
   },
   {
    "_defaultOrder": 10,
    "_isFastLaunch": false,
    "category": "General purpose",
    "gpuNum": 0,
    "hideHardwareSpecs": false,
    "memoryGiB": 256,
    "name": "ml.m5.16xlarge",
    "vcpuNum": 64
   },
   {
    "_defaultOrder": 11,
    "_isFastLaunch": false,
    "category": "General purpose",
    "gpuNum": 0,
    "hideHardwareSpecs": false,
    "memoryGiB": 384,
    "name": "ml.m5.24xlarge",
    "vcpuNum": 96
   },
   {
    "_defaultOrder": 12,
    "_isFastLaunch": false,
    "category": "General purpose",
    "gpuNum": 0,
    "hideHardwareSpecs": false,
    "memoryGiB": 8,
    "name": "ml.m5d.large",
    "vcpuNum": 2
   },
   {
    "_defaultOrder": 13,
    "_isFastLaunch": false,
    "category": "General purpose",
    "gpuNum": 0,
    "hideHardwareSpecs": false,
    "memoryGiB": 16,
    "name": "ml.m5d.xlarge",
    "vcpuNum": 4
   },
   {
    "_defaultOrder": 14,
    "_isFastLaunch": false,
    "category": "General purpose",
    "gpuNum": 0,
    "hideHardwareSpecs": false,
    "memoryGiB": 32,
    "name": "ml.m5d.2xlarge",
    "vcpuNum": 8
   },
   {
    "_defaultOrder": 15,
    "_isFastLaunch": false,
    "category": "General purpose",
    "gpuNum": 0,
    "hideHardwareSpecs": false,
    "memoryGiB": 64,
    "name": "ml.m5d.4xlarge",
    "vcpuNum": 16
   },
   {
    "_defaultOrder": 16,
    "_isFastLaunch": false,
    "category": "General purpose",
    "gpuNum": 0,
    "hideHardwareSpecs": false,
    "memoryGiB": 128,
    "name": "ml.m5d.8xlarge",
    "vcpuNum": 32
   },
   {
    "_defaultOrder": 17,
    "_isFastLaunch": false,
    "category": "General purpose",
    "gpuNum": 0,
    "hideHardwareSpecs": false,
    "memoryGiB": 192,
    "name": "ml.m5d.12xlarge",
    "vcpuNum": 48
   },
   {
    "_defaultOrder": 18,
    "_isFastLaunch": false,
    "category": "General purpose",
    "gpuNum": 0,
    "hideHardwareSpecs": false,
    "memoryGiB": 256,
    "name": "ml.m5d.16xlarge",
    "vcpuNum": 64
   },
   {
    "_defaultOrder": 19,
    "_isFastLaunch": false,
    "category": "General purpose",
    "gpuNum": 0,
    "hideHardwareSpecs": false,
    "memoryGiB": 384,
    "name": "ml.m5d.24xlarge",
    "vcpuNum": 96
   },
   {
    "_defaultOrder": 20,
    "_isFastLaunch": false,
    "category": "General purpose",
    "gpuNum": 0,
    "hideHardwareSpecs": true,
    "memoryGiB": 0,
    "name": "ml.geospatial.interactive",
    "supportedImageNames": [
     "sagemaker-geospatial-v1-0"
    ],
    "vcpuNum": 0
   },
   {
    "_defaultOrder": 21,
    "_isFastLaunch": true,
    "category": "Compute optimized",
    "gpuNum": 0,
    "hideHardwareSpecs": false,
    "memoryGiB": 4,
    "name": "ml.c5.large",
    "vcpuNum": 2
   },
   {
    "_defaultOrder": 22,
    "_isFastLaunch": false,
    "category": "Compute optimized",
    "gpuNum": 0,
    "hideHardwareSpecs": false,
    "memoryGiB": 8,
    "name": "ml.c5.xlarge",
    "vcpuNum": 4
   },
   {
    "_defaultOrder": 23,
    "_isFastLaunch": false,
    "category": "Compute optimized",
    "gpuNum": 0,
    "hideHardwareSpecs": false,
    "memoryGiB": 16,
    "name": "ml.c5.2xlarge",
    "vcpuNum": 8
   },
   {
    "_defaultOrder": 24,
    "_isFastLaunch": false,
    "category": "Compute optimized",
    "gpuNum": 0,
    "hideHardwareSpecs": false,
    "memoryGiB": 32,
    "name": "ml.c5.4xlarge",
    "vcpuNum": 16
   },
   {
    "_defaultOrder": 25,
    "_isFastLaunch": false,
    "category": "Compute optimized",
    "gpuNum": 0,
    "hideHardwareSpecs": false,
    "memoryGiB": 72,
    "name": "ml.c5.9xlarge",
    "vcpuNum": 36
   },
   {
    "_defaultOrder": 26,
    "_isFastLaunch": false,
    "category": "Compute optimized",
    "gpuNum": 0,
    "hideHardwareSpecs": false,
    "memoryGiB": 96,
    "name": "ml.c5.12xlarge",
    "vcpuNum": 48
   },
   {
    "_defaultOrder": 27,
    "_isFastLaunch": false,
    "category": "Compute optimized",
    "gpuNum": 0,
    "hideHardwareSpecs": false,
    "memoryGiB": 144,
    "name": "ml.c5.18xlarge",
    "vcpuNum": 72
   },
   {
    "_defaultOrder": 28,
    "_isFastLaunch": false,
    "category": "Compute optimized",
    "gpuNum": 0,
    "hideHardwareSpecs": false,
    "memoryGiB": 192,
    "name": "ml.c5.24xlarge",
    "vcpuNum": 96
   },
   {
    "_defaultOrder": 29,
    "_isFastLaunch": true,
    "category": "Accelerated computing",
    "gpuNum": 1,
    "hideHardwareSpecs": false,
    "memoryGiB": 16,
    "name": "ml.g4dn.xlarge",
    "vcpuNum": 4
   },
   {
    "_defaultOrder": 30,
    "_isFastLaunch": false,
    "category": "Accelerated computing",
    "gpuNum": 1,
    "hideHardwareSpecs": false,
    "memoryGiB": 32,
    "name": "ml.g4dn.2xlarge",
    "vcpuNum": 8
   },
   {
    "_defaultOrder": 31,
    "_isFastLaunch": false,
    "category": "Accelerated computing",
    "gpuNum": 1,
    "hideHardwareSpecs": false,
    "memoryGiB": 64,
    "name": "ml.g4dn.4xlarge",
    "vcpuNum": 16
   },
   {
    "_defaultOrder": 32,
    "_isFastLaunch": false,
    "category": "Accelerated computing",
    "gpuNum": 1,
    "hideHardwareSpecs": false,
    "memoryGiB": 128,
    "name": "ml.g4dn.8xlarge",
    "vcpuNum": 32
   },
   {
    "_defaultOrder": 33,
    "_isFastLaunch": false,
    "category": "Accelerated computing",
    "gpuNum": 4,
    "hideHardwareSpecs": false,
    "memoryGiB": 192,
    "name": "ml.g4dn.12xlarge",
    "vcpuNum": 48
   },
   {
    "_defaultOrder": 34,
    "_isFastLaunch": false,
    "category": "Accelerated computing",
    "gpuNum": 1,
    "hideHardwareSpecs": false,
    "memoryGiB": 256,
    "name": "ml.g4dn.16xlarge",
    "vcpuNum": 64
   },
   {
    "_defaultOrder": 35,
    "_isFastLaunch": false,
    "category": "Accelerated computing",
    "gpuNum": 1,
    "hideHardwareSpecs": false,
    "memoryGiB": 61,
    "name": "ml.p3.2xlarge",
    "vcpuNum": 8
   },
   {
    "_defaultOrder": 36,
    "_isFastLaunch": false,
    "category": "Accelerated computing",
    "gpuNum": 4,
    "hideHardwareSpecs": false,
    "memoryGiB": 244,
    "name": "ml.p3.8xlarge",
    "vcpuNum": 32
   },
   {
    "_defaultOrder": 37,
    "_isFastLaunch": false,
    "category": "Accelerated computing",
    "gpuNum": 8,
    "hideHardwareSpecs": false,
    "memoryGiB": 488,
    "name": "ml.p3.16xlarge",
    "vcpuNum": 64
   },
   {
    "_defaultOrder": 38,
    "_isFastLaunch": false,
    "category": "Accelerated computing",
    "gpuNum": 8,
    "hideHardwareSpecs": false,
    "memoryGiB": 768,
    "name": "ml.p3dn.24xlarge",
    "vcpuNum": 96
   },
   {
    "_defaultOrder": 39,
    "_isFastLaunch": false,
    "category": "Memory Optimized",
    "gpuNum": 0,
    "hideHardwareSpecs": false,
    "memoryGiB": 16,
    "name": "ml.r5.large",
    "vcpuNum": 2
   },
   {
    "_defaultOrder": 40,
    "_isFastLaunch": false,
    "category": "Memory Optimized",
    "gpuNum": 0,
    "hideHardwareSpecs": false,
    "memoryGiB": 32,
    "name": "ml.r5.xlarge",
    "vcpuNum": 4
   },
   {
    "_defaultOrder": 41,
    "_isFastLaunch": false,
    "category": "Memory Optimized",
    "gpuNum": 0,
    "hideHardwareSpecs": false,
    "memoryGiB": 64,
    "name": "ml.r5.2xlarge",
    "vcpuNum": 8
   },
   {
    "_defaultOrder": 42,
    "_isFastLaunch": false,
    "category": "Memory Optimized",
    "gpuNum": 0,
    "hideHardwareSpecs": false,
    "memoryGiB": 128,
    "name": "ml.r5.4xlarge",
    "vcpuNum": 16
   },
   {
    "_defaultOrder": 43,
    "_isFastLaunch": false,
    "category": "Memory Optimized",
    "gpuNum": 0,
    "hideHardwareSpecs": false,
    "memoryGiB": 256,
    "name": "ml.r5.8xlarge",
    "vcpuNum": 32
   },
   {
    "_defaultOrder": 44,
    "_isFastLaunch": false,
    "category": "Memory Optimized",
    "gpuNum": 0,
    "hideHardwareSpecs": false,
    "memoryGiB": 384,
    "name": "ml.r5.12xlarge",
    "vcpuNum": 48
   },
   {
    "_defaultOrder": 45,
    "_isFastLaunch": false,
    "category": "Memory Optimized",
    "gpuNum": 0,
    "hideHardwareSpecs": false,
    "memoryGiB": 512,
    "name": "ml.r5.16xlarge",
    "vcpuNum": 64
   },
   {
    "_defaultOrder": 46,
    "_isFastLaunch": false,
    "category": "Memory Optimized",
    "gpuNum": 0,
    "hideHardwareSpecs": false,
    "memoryGiB": 768,
    "name": "ml.r5.24xlarge",
    "vcpuNum": 96
   },
   {
    "_defaultOrder": 47,
    "_isFastLaunch": false,
    "category": "Accelerated computing",
    "gpuNum": 1,
    "hideHardwareSpecs": false,
    "memoryGiB": 16,
    "name": "ml.g5.xlarge",
    "vcpuNum": 4
   },
   {
    "_defaultOrder": 48,
    "_isFastLaunch": false,
    "category": "Accelerated computing",
    "gpuNum": 1,
    "hideHardwareSpecs": false,
    "memoryGiB": 32,
    "name": "ml.g5.2xlarge",
    "vcpuNum": 8
   },
   {
    "_defaultOrder": 49,
    "_isFastLaunch": false,
    "category": "Accelerated computing",
    "gpuNum": 1,
    "hideHardwareSpecs": false,
    "memoryGiB": 64,
    "name": "ml.g5.4xlarge",
    "vcpuNum": 16
   },
   {
    "_defaultOrder": 50,
    "_isFastLaunch": false,
    "category": "Accelerated computing",
    "gpuNum": 1,
    "hideHardwareSpecs": false,
    "memoryGiB": 128,
    "name": "ml.g5.8xlarge",
    "vcpuNum": 32
   },
   {
    "_defaultOrder": 51,
    "_isFastLaunch": false,
    "category": "Accelerated computing",
    "gpuNum": 1,
    "hideHardwareSpecs": false,
    "memoryGiB": 256,
    "name": "ml.g5.16xlarge",
    "vcpuNum": 64
   },
   {
    "_defaultOrder": 52,
    "_isFastLaunch": false,
    "category": "Accelerated computing",
    "gpuNum": 4,
    "hideHardwareSpecs": false,
    "memoryGiB": 192,
    "name": "ml.g5.12xlarge",
    "vcpuNum": 48
   },
   {
    "_defaultOrder": 53,
    "_isFastLaunch": false,
    "category": "Accelerated computing",
    "gpuNum": 4,
    "hideHardwareSpecs": false,
    "memoryGiB": 384,
    "name": "ml.g5.24xlarge",
    "vcpuNum": 96
   },
   {
    "_defaultOrder": 54,
    "_isFastLaunch": false,
    "category": "Accelerated computing",
    "gpuNum": 8,
    "hideHardwareSpecs": false,
    "memoryGiB": 768,
    "name": "ml.g5.48xlarge",
    "vcpuNum": 192
   },
   {
    "_defaultOrder": 55,
    "_isFastLaunch": false,
    "category": "Accelerated computing",
    "gpuNum": 8,
    "hideHardwareSpecs": false,
    "memoryGiB": 1152,
    "name": "ml.p4d.24xlarge",
    "vcpuNum": 96
   },
   {
    "_defaultOrder": 56,
    "_isFastLaunch": false,
    "category": "Accelerated computing",
    "gpuNum": 8,
    "hideHardwareSpecs": false,
    "memoryGiB": 1152,
    "name": "ml.p4de.24xlarge",
    "vcpuNum": 96
   },
   {
    "_defaultOrder": 57,
    "_isFastLaunch": false,
    "category": "Accelerated computing",
    "gpuNum": 0,
    "hideHardwareSpecs": false,
    "memoryGiB": 32,
    "name": "ml.trn1.2xlarge",
    "vcpuNum": 8
   },
   {
    "_defaultOrder": 58,
    "_isFastLaunch": false,
    "category": "Accelerated computing",
    "gpuNum": 0,
    "hideHardwareSpecs": false,
    "memoryGiB": 512,
    "name": "ml.trn1.32xlarge",
    "vcpuNum": 128
   },
   {
    "_defaultOrder": 59,
    "_isFastLaunch": false,
    "category": "Accelerated computing",
    "gpuNum": 0,
    "hideHardwareSpecs": false,
    "memoryGiB": 512,
    "name": "ml.trn1n.32xlarge",
    "vcpuNum": 128
   }
  ],
  "instance_type": "ml.t3.medium",
  "kernelspec": {
   "display_name": "Python 3 (Data Science 3.0)",
   "language": "python",
   "name": "python3__SAGEMAKER_INTERNAL__arn:aws:sagemaker:us-east-1:081325390199:image/sagemaker-data-science-310-v1"
  },
  "language_info": {
   "codemirror_mode": {
    "name": "ipython",
    "version": 3
   },
   "file_extension": ".py",
   "mimetype": "text/x-python",
   "name": "python",
   "nbconvert_exporter": "python",
   "pygments_lexer": "ipython3",
   "version": "3.10.6"
  }
 },
 "nbformat": 4,
 "nbformat_minor": 5
}
